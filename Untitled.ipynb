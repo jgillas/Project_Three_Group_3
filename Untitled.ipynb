{
 "cells": [
  {
   "cell_type": "code",
   "execution_count": 1,
   "id": "a99c0c3b",
   "metadata": {},
   "outputs": [],
   "source": [
    "from flask import Flask, render_template, jsonify\n",
    "import pandas as pd\n",
    "from sqlalchemy import create_engine, func\n",
    "import os\n",
    "from sqlalchemy.ext.automap import automap_base\n",
    "from sqlalchemy.orm import Session\n",
    "from datetime import datetime as dt"
   ]
  },
  {
   "cell_type": "code",
   "execution_count": 2,
   "id": "ce793798",
   "metadata": {},
   "outputs": [],
   "source": [
    "engine_sqlite = create_engine('sqlite:///teen_births.sqlite')"
   ]
  },
  {
   "cell_type": "code",
   "execution_count": 3,
   "id": "f22c11eb",
   "metadata": {},
   "outputs": [
    {
     "data": {
      "text/html": [
       "<div>\n",
       "<style scoped>\n",
       "    .dataframe tbody tr th:only-of-type {\n",
       "        vertical-align: middle;\n",
       "    }\n",
       "\n",
       "    .dataframe tbody tr th {\n",
       "        vertical-align: top;\n",
       "    }\n",
       "\n",
       "    .dataframe thead th {\n",
       "        text-align: right;\n",
       "    }\n",
       "</style>\n",
       "<table border=\"1\" class=\"dataframe\">\n",
       "  <thead>\n",
       "    <tr style=\"text-align: right;\">\n",
       "      <th></th>\n",
       "      <th>Year</th>\n",
       "      <th>State</th>\n",
       "      <th>Age Group</th>\n",
       "      <th>State Rate</th>\n",
       "      <th>State Births</th>\n",
       "      <th>US Births</th>\n",
       "      <th>US Birth Rate</th>\n",
       "      <th>Unit</th>\n",
       "    </tr>\n",
       "  </thead>\n",
       "  <tbody>\n",
       "    <tr>\n",
       "      <th>0</th>\n",
       "      <td>1990</td>\n",
       "      <td>Alabama</td>\n",
       "      <td>15-17 years</td>\n",
       "      <td>47.4</td>\n",
       "      <td>4,222</td>\n",
       "      <td>183,327</td>\n",
       "      <td>37.5</td>\n",
       "      <td>per 1,000</td>\n",
       "    </tr>\n",
       "    <tr>\n",
       "      <th>1</th>\n",
       "      <td>1990</td>\n",
       "      <td>Alaska</td>\n",
       "      <td>15-17 years</td>\n",
       "      <td>31.2</td>\n",
       "      <td>335</td>\n",
       "      <td>183,327</td>\n",
       "      <td>37.5</td>\n",
       "      <td>per 1,000</td>\n",
       "    </tr>\n",
       "    <tr>\n",
       "      <th>2</th>\n",
       "      <td>1990</td>\n",
       "      <td>Arizona</td>\n",
       "      <td>15-17 years</td>\n",
       "      <td>47.7</td>\n",
       "      <td>3,436</td>\n",
       "      <td>183,327</td>\n",
       "      <td>37.5</td>\n",
       "      <td>per 1,000</td>\n",
       "    </tr>\n",
       "    <tr>\n",
       "      <th>3</th>\n",
       "      <td>1990</td>\n",
       "      <td>Arkansas</td>\n",
       "      <td>15-17 years</td>\n",
       "      <td>50.4</td>\n",
       "      <td>2,549</td>\n",
       "      <td>183,327</td>\n",
       "      <td>37.5</td>\n",
       "      <td>per 1,000</td>\n",
       "    </tr>\n",
       "    <tr>\n",
       "      <th>4</th>\n",
       "      <td>1990</td>\n",
       "      <td>California</td>\n",
       "      <td>15-17 years</td>\n",
       "      <td>44.6</td>\n",
       "      <td>24,880</td>\n",
       "      <td>183,327</td>\n",
       "      <td>37.5</td>\n",
       "      <td>per 1,000</td>\n",
       "    </tr>\n",
       "    <tr>\n",
       "      <th>...</th>\n",
       "      <td>...</td>\n",
       "      <td>...</td>\n",
       "      <td>...</td>\n",
       "      <td>...</td>\n",
       "      <td>...</td>\n",
       "      <td>...</td>\n",
       "      <td>...</td>\n",
       "      <td>...</td>\n",
       "    </tr>\n",
       "    <tr>\n",
       "      <th>4675</th>\n",
       "      <td>2019</td>\n",
       "      <td>Virginia</td>\n",
       "      <td>18-19 years</td>\n",
       "      <td>25.1</td>\n",
       "      <td>2,800</td>\n",
       "      <td>130,593</td>\n",
       "      <td>31.1</td>\n",
       "      <td>per 1,000</td>\n",
       "    </tr>\n",
       "    <tr>\n",
       "      <th>4676</th>\n",
       "      <td>2019</td>\n",
       "      <td>Washington</td>\n",
       "      <td>18-19 years</td>\n",
       "      <td>25.4</td>\n",
       "      <td>2,189</td>\n",
       "      <td>130,593</td>\n",
       "      <td>31.1</td>\n",
       "      <td>per 1,000</td>\n",
       "    </tr>\n",
       "    <tr>\n",
       "      <th>4677</th>\n",
       "      <td>2019</td>\n",
       "      <td>West Virginia</td>\n",
       "      <td>18-19 years</td>\n",
       "      <td>49.3</td>\n",
       "      <td>1,009</td>\n",
       "      <td>130,593</td>\n",
       "      <td>31.1</td>\n",
       "      <td>per 1,000</td>\n",
       "    </tr>\n",
       "    <tr>\n",
       "      <th>4678</th>\n",
       "      <td>2019</td>\n",
       "      <td>Wisconsin</td>\n",
       "      <td>18-19 years</td>\n",
       "      <td>24.0</td>\n",
       "      <td>1,835</td>\n",
       "      <td>130,593</td>\n",
       "      <td>31.1</td>\n",
       "      <td>per 1,000</td>\n",
       "    </tr>\n",
       "    <tr>\n",
       "      <th>4679</th>\n",
       "      <td>2019</td>\n",
       "      <td>Wyoming</td>\n",
       "      <td>18-19 years</td>\n",
       "      <td>39.2</td>\n",
       "      <td>268</td>\n",
       "      <td>130,593</td>\n",
       "      <td>31.1</td>\n",
       "      <td>per 1,000</td>\n",
       "    </tr>\n",
       "  </tbody>\n",
       "</table>\n",
       "<p>4680 rows × 8 columns</p>\n",
       "</div>"
      ],
      "text/plain": [
       "      Year          State    Age Group  State Rate State Births US Births  \\\n",
       "0     1990        Alabama  15-17 years        47.4        4,222   183,327   \n",
       "1     1990         Alaska  15-17 years        31.2          335   183,327   \n",
       "2     1990        Arizona  15-17 years        47.7        3,436   183,327   \n",
       "3     1990       Arkansas  15-17 years        50.4        2,549   183,327   \n",
       "4     1990     California  15-17 years        44.6       24,880   183,327   \n",
       "...    ...            ...          ...         ...          ...       ...   \n",
       "4675  2019       Virginia  18-19 years        25.1        2,800   130,593   \n",
       "4676  2019     Washington  18-19 years        25.4        2,189   130,593   \n",
       "4677  2019  West Virginia  18-19 years        49.3        1,009   130,593   \n",
       "4678  2019      Wisconsin  18-19 years        24.0        1,835   130,593   \n",
       "4679  2019        Wyoming  18-19 years        39.2          268   130,593   \n",
       "\n",
       "      US Birth Rate       Unit  \n",
       "0              37.5  per 1,000  \n",
       "1              37.5  per 1,000  \n",
       "2              37.5  per 1,000  \n",
       "3              37.5  per 1,000  \n",
       "4              37.5  per 1,000  \n",
       "...             ...        ...  \n",
       "4675           31.1  per 1,000  \n",
       "4676           31.1  per 1,000  \n",
       "4677           31.1  per 1,000  \n",
       "4678           31.1  per 1,000  \n",
       "4679           31.1  per 1,000  \n",
       "\n",
       "[4680 rows x 8 columns]"
      ]
     },
     "execution_count": 3,
     "metadata": {},
     "output_type": "execute_result"
    }
   ],
   "source": [
    "pd.read_sql(\"select * from birth_rates\", engine_sqlite)"
   ]
  },
  {
   "cell_type": "code",
   "execution_count": 4,
   "id": "bf8aef26",
   "metadata": {},
   "outputs": [
    {
     "data": {
      "text/plain": [
       "sqlalchemy.ext.automap.Base"
      ]
     },
     "execution_count": 4,
     "metadata": {},
     "output_type": "execute_result"
    }
   ],
   "source": [
    "base = automap_base()\n",
    "base"
   ]
  },
  {
   "cell_type": "code",
   "execution_count": 11,
   "id": "e1d20ac6",
   "metadata": {},
   "outputs": [],
   "source": [
    "base.prepare(engine_sqlite, reflect=True)"
   ]
  },
  {
   "cell_type": "code",
   "execution_count": 12,
   "id": "b15de56b",
   "metadata": {},
   "outputs": [
    {
     "data": {
      "text/plain": [
       "dict_keys(['birth_rates'])"
      ]
     },
     "execution_count": 12,
     "metadata": {},
     "output_type": "execute_result"
    }
   ],
   "source": [
    "mapped_classes = base.metadata.tables.keys()\n",
    "mapped_classes"
   ]
  },
  {
   "cell_type": "code",
   "execution_count": 15,
   "id": "ecb123d8",
   "metadata": {},
   "outputs": [
    {
     "data": {
      "text/plain": [
       "Table('birth_rates', MetaData(), Column('Year', BIGINT(), table=<birth_rates>), Column('State', TEXT(), table=<birth_rates>), Column('Age Group', TEXT(), table=<birth_rates>), Column('State Rate', FLOAT(), table=<birth_rates>), Column('State Births', TEXT(), table=<birth_rates>), Column('US Births', TEXT(), table=<birth_rates>), Column('US Birth Rate', FLOAT(), table=<birth_rates>), Column('Unit', TEXT(), table=<birth_rates>), schema=None)"
      ]
     },
     "execution_count": 15,
     "metadata": {},
     "output_type": "execute_result"
    }
   ],
   "source": [
    "specific_table = base.metadata.tables['birth_rates']\n",
    "specific_table"
   ]
  },
  {
   "cell_type": "code",
   "execution_count": null,
   "id": "916f9ffe",
   "metadata": {},
   "outputs": [],
   "source": []
  }
 ],
 "metadata": {
  "kernelspec": {
   "display_name": "Python 3 (ipykernel)",
   "language": "python",
   "name": "python3"
  },
  "language_info": {
   "codemirror_mode": {
    "name": "ipython",
    "version": 3
   },
   "file_extension": ".py",
   "mimetype": "text/x-python",
   "name": "python",
   "nbconvert_exporter": "python",
   "pygments_lexer": "ipython3",
   "version": "3.9.13"
  }
 },
 "nbformat": 4,
 "nbformat_minor": 5
}
